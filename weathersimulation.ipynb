{
  "nbformat": 4,
  "nbformat_minor": 0,
  "metadata": {
    "colab": {
      "provenance": [],
      "authorship_tag": "ABX9TyNRaF9HrJcB4IGjjyNTwwEq",
      "include_colab_link": true
    },
    "kernelspec": {
      "name": "python3",
      "display_name": "Python 3"
    },
    "language_info": {
      "name": "python"
    }
  },
  "cells": [
    {
      "cell_type": "markdown",
      "metadata": {
        "id": "view-in-github",
        "colab_type": "text"
      },
      "source": [
        "<a href=\"https://colab.research.google.com/github/manvithreddy250/Building-a-Curved-Progress-Bar-in-JavaScript/blob/main/weathersimulation.ipynb\" target=\"_parent\"><img src=\"https://colab.research.google.com/assets/colab-badge.svg\" alt=\"Open In Colab\"/></a>"
      ]
    },
    {
      "cell_type": "code",
      "source": [
        "# Weather Monitoring System using Python\n",
        "# Simulate temperature, humidity, and pressure data and visualize it in real-time\n",
        "\n",
        "import numpy as np\n",
        "import matplotlib.pyplot as plt\n",
        "from IPython.display import clear_output\n",
        "import time\n",
        "\n",
        "# Function to simulate sensor data\n",
        "def get_weather_data():\n",
        "    temperature = np.random.uniform(15, 35)  # Simulate temperature (15°C to 35°C)\n",
        "    humidity = np.random.uniform(40, 90)     # Simulate humidity (40% to 90%)\n",
        "    pressure = np.random.uniform(1000, 1025) # Simulate pressure (1000hPa to 1025hPa)\n",
        "    return temperature, humidity, pressure\n",
        "\n",
        "# Lists to store data\n",
        "temperature_data = []\n",
        "humidity_data = []\n",
        "pressure_data = []\n",
        "time_data = []\n",
        "\n",
        "# Number of iterations (time steps)\n",
        "iterations = 100\n",
        "\n",
        "# Real-time visualization setup\n",
        "plt.ion()  # Interactive mode for real-time plotting\n",
        "fig, ax = plt.subplots(3, 1, figsize=(10, 8))\n",
        "\n",
        "# Start collecting and visualizing data\n",
        "for t in range(iterations):\n",
        "    temp, hum, pres = get_weather_data()  # Get simulated data\n",
        "    temperature_data.append(temp)\n",
        "    humidity_data.append(hum)\n",
        "    pressure_data.append(pres)\n",
        "    time_data.append(t)\n",
        "\n",
        "    # Plot temperature data\n",
        "    ax[0].cla()\n",
        "    ax[0].plot(time_data, temperature_data, color='r')\n",
        "    ax[0].set_title('Temperature (°C)')\n",
        "    ax[0].set_xlabel('Time')\n",
        "    ax[0].set_ylabel('Temperature')\n",
        "    ax[0].grid(True)\n",
        "\n",
        "    # Plot humidity data\n",
        "    ax[1].cla()\n",
        "    ax[1].plot(time_data, humidity_data, color='b')\n",
        "    ax[1].set_title('Humidity (%)')\n",
        "    ax[1].set_xlabel('Time')\n",
        "    ax[1].set_ylabel('Humidity')\n",
        "    ax[1].grid(True)\n",
        "\n",
        "    # Plot pressure data\n",
        "    ax[2].cla()\n",
        "    ax[2].plot(time_data, pressure_data, color='g')\n",
        "    ax[2].set_title('Pressure (hPa)')\n",
        "    ax[2].set_xlabel('Time')\n",
        "    ax[2].set_ylabel('Pressure')\n",
        "    ax[2].grid(True)\n",
        "\n",
        "    # Update plots\n",
        "    plt.tight_layout()\n",
        "    clear_output(wait=True)\n",
        "    plt.pause(0.1)  # Small pause to simulate real-time update\n",
        "\n",
        "plt.ioff()  # Turn off interactive mode\n",
        "plt.show()\n",
        "\n",
        "print(\"Weather Monitoring Simulation Completed.\")\n"
      ],
      "metadata": {
        "colab": {
          "base_uri": "https://localhost:8080/",
          "height": 52
        },
        "id": "Bl2Z3uFAL5wj",
        "outputId": "00d142ce-8eb5-47bf-fa94-1328a2f8f948"
      },
      "execution_count": 5,
      "outputs": [
        {
          "output_type": "display_data",
          "data": {
            "text/plain": [
              "<Figure size 640x480 with 0 Axes>"
            ]
          },
          "metadata": {}
        },
        {
          "output_type": "stream",
          "name": "stdout",
          "text": [
            "Weather Monitoring Simulation Completed.\n"
          ]
        }
      ]
    },
    {
      "cell_type": "code",
      "source": [],
      "metadata": {
        "id": "tUO2Wk3KPBaF"
      },
      "execution_count": null,
      "outputs": []
    }
  ]
}